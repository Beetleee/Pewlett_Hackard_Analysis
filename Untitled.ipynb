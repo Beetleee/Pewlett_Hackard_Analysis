{
 "cells": [
  {
   "cell_type": "code",
   "execution_count": null,
   "id": "cc234516",
   "metadata": {},
   "outputs": [],
   "source": [
    "-- Creating tables for PH-EmployeeDB\n",
    "CREATE TABLE departments (\n",
    "     dept_no VARCHAR(4) NOT NULL,\n",
    "     dept_name VARCHAR(40) NOT NULL,\n",
    "     PRIMARY KEY (dept_no),\n",
    "     UNIQUE (dept_name)\n",
    ");"
   ]
  },
  {
   "cell_type": "code",
   "execution_count": null,
   "id": "3a7ade2b",
   "metadata": {},
   "outputs": [],
   "source": [
    "-- Creating tables for PH-EmployeeDB\n",
    "CREATE TABLE employees (\n",
    "    emp_no INT NOT NULL,\n",
    "     birth_date DATE NOT NULL,\n",
    "     first_name VARCHAR NOT NULL,\n",
    "     last_name VARCHAR NOT NULL,\n",
    "     gender VARCHAR NOT NULL,\n",
    "     hire_date DATE NOT NULL,\n",
    "     PRIMARY KEY (emp_no)\n",
    ");"
   ]
  },
  {
   "cell_type": "code",
   "execution_count": null,
   "id": "adef8451",
   "metadata": {},
   "outputs": [],
   "source": [
    "CREATE TABLE dept_manager (\n",
    "dept_no VARCHAR(4) NOT NULL,\n",
    "    emp_no INT NOT NULL,\n",
    "    from_date DATE NOT NULL,\n",
    "    to_date DATE NOT NULL,\n",
    "FOREIGN KEY (emp_no) REFERENCES employees (emp_no),\n",
    "FOREIGN KEY (dept_no) REFERENCES departments (dept_no),\n",
    "    PRIMARY KEY (emp_no, dept_no)\n",
    ");"
   ]
  },
  {
   "cell_type": "code",
   "execution_count": null,
   "id": "13823ec3",
   "metadata": {},
   "outputs": [],
   "source": [
    "CREATE TABLE salaries (\n",
    "  emp_no INT NOT NULL,\n",
    "  salary INT NOT NULL,\n",
    "  from_date DATE NOT NULL,\n",
    "  to_date DATE NOT NULL,\n",
    "  FOREIGN KEY (emp_no) REFERENCES employees (emp_no),\n",
    "  PRIMARY KEY (emp_no)\n",
    ");"
   ]
  }
 ],
 "metadata": {
  "kernelspec": {
   "display_name": "PythonData",
   "language": "python",
   "name": "pythondata"
  },
  "language_info": {
   "codemirror_mode": {
    "name": "ipython",
    "version": 3
   },
   "file_extension": ".py",
   "mimetype": "text/x-python",
   "name": "python",
   "nbconvert_exporter": "python",
   "pygments_lexer": "ipython3",
   "version": "3.7.11"
  }
 },
 "nbformat": 4,
 "nbformat_minor": 5
}
